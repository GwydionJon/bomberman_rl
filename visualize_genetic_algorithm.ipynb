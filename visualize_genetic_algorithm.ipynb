{
 "cells": [
  {
   "cell_type": "code",
   "execution_count": null,
   "metadata": {},
   "outputs": [],
   "source": [
    "import pygad\n",
    "import os\n",
    "import json"
   ]
  },
  {
   "cell_type": "code",
   "execution_count": null,
   "metadata": {},
   "outputs": [],
   "source": [
    "def make_example_dict(values):\n",
    "    reward_dict = {}\n",
    "\n",
    "    pos_keys = [\n",
    "        \"COIN_COLLECTED\",\n",
    "        \"KILLED_OPPONENT\",\n",
    "        \"COIN_FOUND\",\n",
    "        \"CRATE_DESTROYED\",\n",
    "        \"CHASING_COIN\",\n",
    "        \"CHASING_CRATE\",\n",
    "        \"GOOD_BOMB_PLACEMENT\",\n",
    "        \"MOVED_FROM_DANGER\",\n",
    "        \"MOVED_FROM_BOMB\",\n",
    "        \"CHASING_COIN_INSTEAD_OF_CRATE\",\n",
    "    ]\n",
    "\n",
    "    for key, value in zip(pos_keys, values[: len(pos_keys)]):\n",
    "        reward_dict[key] = float(value)\n",
    "\n",
    "    neg_keys = [\n",
    "        \"WAITED\",\n",
    "        \"INVALID_ACTION\",\n",
    "        \"KILLED_SELF\",\n",
    "        \"MOVED_TOWARDS_BOMB\",\n",
    "        \"BAD_BOMB_PLACEMENT\",\n",
    "        \"MOVED_IN_DANGER\",\n",
    "        \"CHASING_CRATE_INSTEAD_OF_COIN\",\n",
    "    ]\n",
    "\n",
    "    for key, value in zip(\n",
    "        neg_keys, values[len(pos_keys) : len(pos_keys) + len(neg_keys)]\n",
    "    ):\n",
    "        if key == \"KILLED_SELF\":\n",
    "            reward_dict[key] = -float(value) * 1.5\n",
    "        elif key == \"INVALID_ACTION\":\n",
    "            reward_dict[key] = -float(value) * 1.3\n",
    "\n",
    "        else:\n",
    "            reward_dict[key] = -float(value)\n",
    "\n",
    "    movement_keys = [\n",
    "        \"MOVED_DOWN\",\n",
    "        \"MOVED_LEFT\",\n",
    "        \"MOVED_RIGHT\",\n",
    "        \"MOVED_UP\",\n",
    "    ]\n",
    "\n",
    "    reward_dict[\"epsilon\"] = float(values[-4]) / init_range_high\n",
    "    reward_dict[\"alpha\"] = float(values[-3]) / init_range_high\n",
    "    reward_dict[\"gamma\"] = float(values[-2]) / init_range_high\n",
    "\n",
    "    for key in movement_keys:\n",
    "        reward_dict[key] = -float(values[-1])\n",
    "\n",
    "    return reward_dict\n",
    "\n",
    "\n",
    "def find_model(values, value_idx):\n",
    "    return run_model(values, value_idx)\n",
    "\n",
    "\n",
    "def run_model(values, value_idx, keep_model=False):\n",
    "\n",
    "    reward_dict = make_example_dict(values)\n",
    "    with open(\"agent_code/cc_agent_gwydion_Tuning/rewards.json\", \"w\") as fp:\n",
    "        json.dump(reward_dict, fp)\n",
    "\n",
    "    os.system(\n",
    "        \"python main.py play --agent cc_agent_gwydion_Tuning --scenario coin-heaven --train 1 --no-gui --n-rounds 20\"\n",
    "    )\n",
    "\n",
    "    with open(\"agent_code/cc_agent_gwydion_Tuning/stat.json\", \"r\") as f:\n",
    "        stats_dict = json.load(f)\n",
    "\n",
    "    if keep_model == False:\n",
    "        os.remove(\"agent_code/cc_agent_gwydion_Tuning/model_dict.json\")\n",
    "        os.remove(\"agent_code/cc_agent_gwydion_Tuning/my-saved-model.pt\")\n",
    "\n",
    "    return stats_dict[str(list(reward_dict.values()))]\n",
    "\n",
    "\n",
    "def print_generation(gen):\n",
    "    print(gen.best_solution())"
   ]
  },
  {
   "cell_type": "code",
   "execution_count": null,
   "metadata": {},
   "outputs": [],
   "source": [
    "filename = \"agent_code/cc_agent_gwydion_Tuning/genetic\"\n",
    "\n",
    "loaded_ga_instance = pygad.load(filename=filename)"
   ]
  },
  {
   "cell_type": "code",
   "execution_count": null,
   "metadata": {},
   "outputs": [],
   "source": [
    "loaded_ga_instance.plot_fitness(ylabel=\"average coins\")"
   ]
  },
  {
   "cell_type": "code",
   "execution_count": null,
   "metadata": {},
   "outputs": [],
   "source": [
    "loaded_ga_instance.plot_genes(graph_type=\"boxplot\")"
   ]
  },
  {
   "cell_type": "code",
   "execution_count": null,
   "metadata": {},
   "outputs": [],
   "source": []
  }
 ],
 "metadata": {
  "interpreter": {
   "hash": "3c74b647943265f6bbe2b0502404b93319663431ce402dbc1a7617754ed8c4fe"
  },
  "kernelspec": {
   "display_name": "Python 3.9.7 ('ml_homework')",
   "language": "python",
   "name": "python3"
  },
  "language_info": {
   "codemirror_mode": {
    "name": "ipython",
    "version": 3
   },
   "file_extension": ".py",
   "mimetype": "text/x-python",
   "name": "python",
   "nbconvert_exporter": "python",
   "pygments_lexer": "ipython3",
   "version": "3.9.12"
  }
 },
 "nbformat": 4,
 "nbformat_minor": 2
}
